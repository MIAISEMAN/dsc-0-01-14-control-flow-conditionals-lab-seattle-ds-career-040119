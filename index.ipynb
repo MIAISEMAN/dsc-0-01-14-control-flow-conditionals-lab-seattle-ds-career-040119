{
 "cells": [
  {
   "cell_type": "markdown",
   "metadata": {},
   "source": [
    "# Control Flow: Conditionals - Lab"
   ]
  },
  {
   "cell_type": "markdown",
   "metadata": {},
   "source": [
    "## Introduction\n",
    "Now that we have been introduced to some different data types, how to use them, and now conditionals, let's put our knowledge to the test and create some conditional statements that selectively assign values to variables based on whether they pass the conditions we set."
   ]
  },
  {
   "cell_type": "markdown",
   "metadata": {},
   "source": [
    "## Objectives\n",
    "You will be able to:\n",
    "* Understand and use conditionals"
   ]
  },
  {
   "cell_type": "markdown",
   "metadata": {},
   "source": [
    "## Instructions"
   ]
  },
  {
   "cell_type": "markdown",
   "metadata": {},
   "source": [
    "Let's use our knowledge of variables and conditionals to assign values based on different conditions. Follow the instructions below to properly assign the values.\n",
    "\n",
    "With the started code in the cell below, use what you know about numbers and conditionals to assign a value to less_than_50 and follow the directions given in the comments below. Use this as a guide to structuring the rest of the problems in this lab."
   ]
  },
  {
   "cell_type": "code",
   "execution_count": 8,
   "metadata": {},
   "outputs": [
    {
     "data": {
      "text/plain": [
       "50"
      ]
     },
     "execution_count": 8,
     "metadata": {},
     "output_type": "execute_result"
    }
   ],
   "source": [
    "number_50 = 34\n",
    "less_than_50 = None\n",
    "if number_50 > 100:\n",
    "    less_than_50 = 100\n",
    "elif number_50 < 50:\n",
    "    less_than_50= 50\n",
    "else:\n",
    "    less_than_50 = 49\n",
    "less_than_50\n",
    "#i don't understand the point of this code or what question we are answering"
   ]
  },
  {
   "cell_type": "markdown",
   "metadata": {},
   "source": [
    "Below, use conditionals to tell whether it is hot outside or not. If it is hot, assign the string `\"It is so hot out!\"` to the variable `is_it_hot`. If it is not hot, assign the string `\"This is nothing! Bring on the heat.\"`. For our purposes, anything over `80` degrees is considered hot."
   ]
  },
  {
   "cell_type": "code",
   "execution_count": 14,
   "metadata": {},
   "outputs": [
    {
     "data": {
      "text/plain": [
       "'This is nothing! Bring on the heat.'"
      ]
     },
     "execution_count": 14,
     "metadata": {},
     "output_type": "execute_result"
    }
   ],
   "source": [
    "temperature = 80\n",
    "is_it_hot = None \n",
    "if temperature > 80:\n",
    "    is_it_hot = \"It's so hot out!\"\n",
    "else: \n",
    "    is_it_hot = \"This is nothing! Bring on the heat.\"\n",
    "is_it_hot"
   ]
  },
  {
   "cell_type": "markdown",
   "metadata": {},
   "source": [
    "Next, let's see what day of the week it is. There are 7 days in the week starting with Sunday at day `1` and ending with Saturday at day `7`. Use conditional statements to assign the day of the week to the variable `day_of_the_week` based on the number below assigned to the variable `today_is`.\n",
    "For example, if the day is `2`, we would assign `day_of_the_week` the value `\"Monday\"`."
   ]
  },
  {
   "cell_type": "code",
   "execution_count": 35,
   "metadata": {},
   "outputs": [
    {
     "data": {
      "text/plain": [
       "[0, 1, 2, 3, 4, 5, 6, 7]"
      ]
     },
     "execution_count": 35,
     "metadata": {},
     "output_type": "execute_result"
    }
   ],
   "source": [
    "days = ['Sunday', 'Monday', 'Tuesday', 'Wednesday', 'Thursday', 'Friday']\n",
    "days[1]\n",
    "numbers = list(range(0,8))\n",
    "numbers"
   ]
  },
  {
   "cell_type": "code",
   "execution_count": 42,
   "metadata": {},
   "outputs": [
    {
     "data": {
      "text/plain": [
       "'Saturday'"
      ]
     },
     "execution_count": 42,
     "metadata": {},
     "output_type": "execute_result"
    }
   ],
   "source": [
    "today_is=7\n",
    "day = None\n",
    "if today_is==2:\n",
    "    day = 'Monday'\n",
    "if today_is==3:\n",
    "    day = 'Tuesday'\n",
    "if today_is==4:\n",
    "    day = 'Wednesday'\n",
    "if today_is==5:\n",
    "    day = 'Thursday'\n",
    "if today_is==6:\n",
    "    day = 'Friday'\n",
    "if today_is==7:\n",
    "    day = 'Saturday'\n",
    "if today_is==1:\n",
    "    day = 'Sunday'\n",
    "day"
   ]
  },
  {
   "cell_type": "markdown",
   "metadata": {},
   "source": [
    "Finally, let's take a string and see if it ends with a certain substring. If it does, assign the variable `ends_with` to either `True` or `False`. For example, we have the string \"School\" and we want to know if it ends with the sub-string \"cool\". In this case it does not, so, we would assign `False` to the variable `ends_with`. "
   ]
  },
  {
   "cell_type": "code",
   "execution_count": 49,
   "metadata": {},
   "outputs": [
    {
     "data": {
      "text/plain": [
       "True"
      ]
     },
     "execution_count": 49,
     "metadata": {},
     "output_type": "execute_result"
    }
   ],
   "source": [
    "string = \"Criterion\"\n",
    "sub_string = \"on\"\n",
    "ends_with = None\n",
    "if string.endswith(sub_string):\n",
    "    ends_with = True\n",
    "else:\n",
    "    ends_with = False\n",
    "ends_with\n"
   ]
  },
  {
   "cell_type": "markdown",
   "metadata": {},
   "source": [
    "### Summary"
   ]
  },
  {
   "cell_type": "markdown",
   "metadata": {},
   "source": [
    "Great! In this lab we saw how to use our knowedge of conditionals to selectively assign values based on a condition. We will start integrating conditionals in many more ways in our code and we will start to see how useful they can become in more complex problems."
   ]
  }
 ],
 "metadata": {
  "kernelspec": {
   "display_name": "Python 3",
   "language": "python",
   "name": "python3"
  },
  "language_info": {
   "codemirror_mode": {
    "name": "ipython",
    "version": 3
   },
   "file_extension": ".py",
   "mimetype": "text/x-python",
   "name": "python",
   "nbconvert_exporter": "python",
   "pygments_lexer": "ipython3",
   "version": "3.7.1"
  }
 },
 "nbformat": 4,
 "nbformat_minor": 2
}
